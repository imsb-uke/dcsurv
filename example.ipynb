{
  "cells": [
    {
      "cell_type": "markdown",
      "metadata": {},
      "source": [
        "# Preliminary"
      ]
    },
    {
      "cell_type": "code",
      "execution_count": 1,
      "metadata": {},
      "outputs": [],
      "source": [
        "%load_ext autoreload\n",
        "%autoreload 2"
      ]
    },
    {
      "cell_type": "code",
      "execution_count": 3,
      "metadata": {},
      "outputs": [],
      "source": [
        "import sys\n",
        "sys.path.append('dcs')\n",
        "%aimport dcs \n",
        "\n",
        "import pandas as pd\n",
        "import numpy as np"
      ]
    },
    {
      "cell_type": "code",
      "execution_count": null,
      "metadata": {},
      "outputs": [],
      "source": [
        "dataset_name = 'support'\n",
        "test_size = .2\n",
        "random_seed = 40"
      ]
    },
    {
      "cell_type": "markdown",
      "metadata": {},
      "source": [
        "# Dataset"
      ]
    },
    {
      "cell_type": "code",
      "execution_count": null,
      "metadata": {},
      "outputs": [],
      "source": [
        "dataset = dcs.datasets.get_dataset(dataset_name)\n",
        "pipeline = dcs.pipelines.get_pipeline(dataset_name)\n",
        "display(dataset.head())\n",
        "\n",
        "train_X, train_y, test_X, test_y = dcs.preprocessing.train_test_split_X_y(\n",
        "    dataset,\n",
        "    random_state=random_seed,\n",
        "    test_size=test_size)\n",
        "\n",
        "train_X_t = pipeline.fit_transform(train_X)\n",
        "test_X_t = pipeline.transform(test_X)\n",
        "\n",
        "display(train_X_t.head())"
      ]
    },
    {
      "cell_type": "markdown",
      "metadata": {},
      "source": [
        "# Models"
      ]
    },
    {
      "cell_type": "code",
      "execution_count": null,
      "metadata": {},
      "outputs": [],
      "source": [
        "predictions = {}"
      ]
    },
    {
      "cell_type": "markdown",
      "metadata": {},
      "source": [
        "## CoxPH"
      ]
    },
    {
      "cell_type": "code",
      "execution_count": null,
      "metadata": {},
      "outputs": [],
      "source": [
        "cox = dcs.models.CoxPH()\n",
        "cox.fit(train_X_t, train_y)\n",
        "predictions['CoxPH'] = cox.predict(test_X_t)"
      ]
    },
    {
      "cell_type": "markdown",
      "metadata": {},
      "source": [
        "## DeepSurv"
      ]
    },
    {
      "cell_type": "code",
      "execution_count": null,
      "metadata": {},
      "outputs": [],
      "source": [
        "deepsurv = dcs.models.DeepSurv()\n",
        "deepsurv.fit(train_X_t, train_y)\n",
        "predictions['DeepSurv'] = deepsurv.predict(test_X_t)"
      ]
    },
    {
      "cell_type": "markdown",
      "metadata": {},
      "source": [
        "## CoxTime"
      ]
    },
    {
      "cell_type": "code",
      "execution_count": null,
      "metadata": {},
      "outputs": [],
      "source": [
        "coxtime = dcs.models.CoxTime()\n",
        "coxtime.fit(train_X_t, train_y)\n",
        "predictions['CoxTime'] = coxtime.predict(test_X_t)"
      ]
    },
    {
      "cell_type": "markdown",
      "metadata": {},
      "source": [
        "## DRSA"
      ]
    },
    {
      "cell_type": "code",
      "execution_count": null,
      "metadata": {},
      "outputs": [],
      "source": [
        "train_max_months = int(np.ceil(train_y['event_days'].max() * 12 / 365))\n",
        "nns_epochs = 100\n",
        "\n",
        "drsa = dcs.models.Drsa(\n",
        "    epochs=nns_epochs, \n",
        "    use_early_stopping=True,\n",
        "    early_stopping_patience=10,\n",
        "    batch_size=50,\n",
        "    output_grid_num_nodes=train_max_months,\n",
        "    learning_rate = 1e-4,\n",
        "    validation_size=.1\n",
        "    )\n",
        "drsa.fit(train_X_t, train_y)\n",
        "predictions['DRSA'] = drsa.predict(test_X_t)"
      ]
    },
    {
      "cell_type": "markdown",
      "metadata": {},
      "source": [
        "## Kamran"
      ]
    },
    {
      "cell_type": "code",
      "execution_count": null,
      "metadata": {},
      "outputs": [],
      "source": [
        "kamran = dcs.models.Kamran(\n",
        "    epochs=nns_epochs, \n",
        "    use_early_stopping=True,\n",
        "    early_stopping_patience=10,\n",
        "    batch_size=50,\n",
        "    learning_rate = 1e-4,\n",
        "    sigma=0.7,\n",
        "    lambda_=1,\n",
        "    output_grid_num_nodes=train_max_months,\n",
        "    validation_size=.1)\n",
        "\n",
        "kamran.fit(train_X_t, train_y)\n",
        "kamran.plot_history()\n",
        "\n",
        "predictions['Kamran'] = kamran.predict(test_X_t)"
      ]
    },
    {
      "cell_type": "markdown",
      "metadata": {},
      "source": [
        "## DCS"
      ]
    },
    {
      "cell_type": "code",
      "execution_count": null,
      "metadata": {},
      "outputs": [],
      "source": [
        "dcs_model = dcs.models.DcsModel(\n",
        "    epochs=nns_epochs, \n",
        "    use_early_stopping=True,\n",
        "    early_stopping_patience=10,\n",
        "    batch_size=50,\n",
        "    learning_rate = 1e-4,\n",
        "    sigma=0.7,\n",
        "    lambda_=1,\n",
        "    output_grid_type='quantile',\n",
        "    output_grid_num_nodes=train_max_months,\n",
        "    validation_size=.1)\n",
        "\n",
        "dcs_model.fit(train_X_t, train_y)\n",
        "dcs_model.plot_history()\n",
        "\n",
        "predictions['DCS-Model'] = dcs_model.predict(test_X_t)"
      ]
    },
    {
      "cell_type": "markdown",
      "metadata": {},
      "source": [
        "# Evaluation"
      ]
    },
    {
      "cell_type": "markdown",
      "metadata": {},
      "source": [
        "## Qualitative Survival Curves"
      ]
    },
    {
      "cell_type": "code",
      "execution_count": null,
      "metadata": {},
      "outputs": [],
      "source": [
        "import matplotlib.pyplot as plt\n",
        "\n",
        "sample_idx = test_X.sample(5).index\n",
        "\n",
        "nrows=int(np.ceil(len(predictions)/3))\n",
        "\n",
        "fig, axs = plt.subplots(\n",
        "    figsize=(16, 4*nrows), dpi=100, \n",
        "    ncols=3, nrows=nrows,\n",
        "    sharex=True, sharey=True)\n",
        "axs = axs.reshape(-1)\n",
        "\n",
        "for i, (model_name, prediction) in enumerate(predictions.items()):\n",
        "    ax = axs[i]\n",
        "    prediction.loc[sample_idx].T.plot(ax=ax)\n",
        "    ax.set_title(model_name)\n"
      ]
    },
    {
      "cell_type": "markdown",
      "metadata": {},
      "source": [
        "## Quantitative"
      ]
    },
    {
      "cell_type": "code",
      "execution_count": null,
      "metadata": {},
      "outputs": [],
      "source": [
        "results_df = pd.DataFrame()\n",
        "for model_name, prediction in predictions.items():\n",
        "\n",
        "    results_model = pd.Series({\n",
        "        \"c-index-td\": dcs.evaluation.concordance_index_td(test_y, prediction),\n",
        "        \"cdauc\": dcs.evaluation.cdauc(test_y, prediction),\n",
        "        \"ddc\": dcs.evaluation.ddc(test_y, prediction),\n",
        "    }, name=model_name)\n",
        "    \n",
        "    results_df = results_df.append(results_model)\n",
        "\n",
        "\n",
        "display(results_df.T)"
      ]
    },
    {
      "cell_type": "code",
      "execution_count": null,
      "metadata": {},
      "outputs": [],
      "source": []
    }
  ],
  "metadata": {
    "interpreter": {
      "hash": "0a983aeef090c43d0fc66e93b9578a319728366b3d8a6cdc66feb764908a829d"
    },
    "kernelspec": {
      "display_name": "Python 3.8.7 ('.venv')",
      "language": "python",
      "name": "python3"
    },
    "language_info": {
      "codemirror_mode": {
        "name": "ipython",
        "version": 3
      },
      "file_extension": ".py",
      "mimetype": "text/x-python",
      "name": "python",
      "nbconvert_exporter": "python",
      "pygments_lexer": "ipython3",
      "version": "3.8.7"
    },
    "orig_nbformat": 4
  },
  "nbformat": 4,
  "nbformat_minor": 2
}
