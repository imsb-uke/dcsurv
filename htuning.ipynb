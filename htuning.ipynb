{
 "cells": [
  {
   "cell_type": "code",
   "execution_count": 1,
   "metadata": {},
   "outputs": [],
   "source": [
    "%load_ext autoreload\n",
    "%autoreload 2"
   ]
  },
  {
   "cell_type": "code",
   "execution_count": 2,
   "metadata": {},
   "outputs": [],
   "source": [
    "import dcs \n",
    "import pandas as pd\n",
    "import numpy as np"
   ]
  },
  {
   "cell_type": "code",
   "execution_count": 3,
   "metadata": {},
   "outputs": [],
   "source": [
    "# Config\n",
    "\n",
    "dataset_name = 'metabric'\n",
    "test_size = .2\n",
    "random_seed = 40\n",
    "\n",
    "n_iter = 1\n",
    "n_jobs = 15\n",
    "cv = 5\n",
    "\n"
   ]
  },
  {
   "cell_type": "code",
   "execution_count": null,
   "metadata": {},
   "outputs": [],
   "source": []
  },
  {
   "cell_type": "code",
   "execution_count": 4,
   "metadata": {},
   "outputs": [],
   "source": [
    "# Dataset"
   ]
  },
  {
   "cell_type": "code",
   "execution_count": 5,
   "metadata": {},
   "outputs": [
    {
     "data": {
      "text/html": [
       "<div>\n",
       "<style scoped>\n",
       "    .dataframe tbody tr th:only-of-type {\n",
       "        vertical-align: middle;\n",
       "    }\n",
       "\n",
       "    .dataframe tbody tr th {\n",
       "        vertical-align: top;\n",
       "    }\n",
       "\n",
       "    .dataframe thead th {\n",
       "        text-align: right;\n",
       "    }\n",
       "</style>\n",
       "<table border=\"1\" class=\"dataframe\">\n",
       "  <thead>\n",
       "    <tr style=\"text-align: right;\">\n",
       "      <th></th>\n",
       "      <th>marker_MKI67</th>\n",
       "      <th>marker_EGFR</th>\n",
       "      <th>marker_PGR</th>\n",
       "      <th>marker_ERBB2</th>\n",
       "      <th>hormone_treatment</th>\n",
       "      <th>radiotherapy</th>\n",
       "      <th>chemotherapy</th>\n",
       "      <th>er_positive</th>\n",
       "      <th>age</th>\n",
       "    </tr>\n",
       "    <tr>\n",
       "      <th>patient_id</th>\n",
       "      <th></th>\n",
       "      <th></th>\n",
       "      <th></th>\n",
       "      <th></th>\n",
       "      <th></th>\n",
       "      <th></th>\n",
       "      <th></th>\n",
       "      <th></th>\n",
       "      <th></th>\n",
       "    </tr>\n",
       "  </thead>\n",
       "  <tbody>\n",
       "    <tr>\n",
       "      <th>m-0673</th>\n",
       "      <td>-0.802284</td>\n",
       "      <td>0.073297</td>\n",
       "      <td>-0.061000</td>\n",
       "      <td>-0.193895</td>\n",
       "      <td>1.0</td>\n",
       "      <td>0.0</td>\n",
       "      <td>0.0</td>\n",
       "      <td>1.0</td>\n",
       "      <td>1.793404</td>\n",
       "    </tr>\n",
       "    <tr>\n",
       "      <th>m-0907</th>\n",
       "      <td>-0.669547</td>\n",
       "      <td>0.719618</td>\n",
       "      <td>-0.323504</td>\n",
       "      <td>-0.491732</td>\n",
       "      <td>1.0</td>\n",
       "      <td>1.0</td>\n",
       "      <td>1.0</td>\n",
       "      <td>1.0</td>\n",
       "      <td>-1.330031</td>\n",
       "    </tr>\n",
       "    <tr>\n",
       "      <th>m-0021</th>\n",
       "      <td>-0.303750</td>\n",
       "      <td>-0.917746</td>\n",
       "      <td>0.307967</td>\n",
       "      <td>-1.324030</td>\n",
       "      <td>1.0</td>\n",
       "      <td>1.0</td>\n",
       "      <td>1.0</td>\n",
       "      <td>1.0</td>\n",
       "      <td>-0.926909</td>\n",
       "    </tr>\n",
       "    <tr>\n",
       "      <th>m-0209</th>\n",
       "      <td>-0.759231</td>\n",
       "      <td>1.228561</td>\n",
       "      <td>-0.429770</td>\n",
       "      <td>-0.203864</td>\n",
       "      <td>0.0</td>\n",
       "      <td>1.0</td>\n",
       "      <td>0.0</td>\n",
       "      <td>1.0</td>\n",
       "      <td>0.413015</td>\n",
       "    </tr>\n",
       "    <tr>\n",
       "      <th>m-0626</th>\n",
       "      <td>-0.089504</td>\n",
       "      <td>0.096472</td>\n",
       "      <td>-0.638664</td>\n",
       "      <td>-0.499638</td>\n",
       "      <td>1.0</td>\n",
       "      <td>0.0</td>\n",
       "      <td>0.0</td>\n",
       "      <td>1.0</td>\n",
       "      <td>0.958910</td>\n",
       "    </tr>\n",
       "  </tbody>\n",
       "</table>\n",
       "</div>"
      ],
      "text/plain": [
       "            marker_MKI67  marker_EGFR  marker_PGR  marker_ERBB2  \\\n",
       "patient_id                                                        \n",
       "m-0673         -0.802284     0.073297   -0.061000     -0.193895   \n",
       "m-0907         -0.669547     0.719618   -0.323504     -0.491732   \n",
       "m-0021         -0.303750    -0.917746    0.307967     -1.324030   \n",
       "m-0209         -0.759231     1.228561   -0.429770     -0.203864   \n",
       "m-0626         -0.089504     0.096472   -0.638664     -0.499638   \n",
       "\n",
       "            hormone_treatment  radiotherapy  chemotherapy  er_positive  \\\n",
       "patient_id                                                               \n",
       "m-0673                    1.0           0.0           0.0          1.0   \n",
       "m-0907                    1.0           1.0           1.0          1.0   \n",
       "m-0021                    1.0           1.0           1.0          1.0   \n",
       "m-0209                    0.0           1.0           0.0          1.0   \n",
       "m-0626                    1.0           0.0           0.0          1.0   \n",
       "\n",
       "                 age  \n",
       "patient_id            \n",
       "m-0673      1.793404  \n",
       "m-0907     -1.330031  \n",
       "m-0021     -0.926909  \n",
       "m-0209      0.413015  \n",
       "m-0626      0.958910  "
      ]
     },
     "metadata": {},
     "output_type": "display_data"
    }
   ],
   "source": [
    "dataset = dcs.datasets.get_dataset(dataset_name)\n",
    "pipeline = dcs.pipelines.get_pipeline(dataset_name)\n",
    "\n",
    "train_X, train_y, test_X, test_y = dcs.preprocessing.train_test_split_X_y(\n",
    "    dataset,\n",
    "    random_state=random_seed,\n",
    "    test_size=test_size,\n",
    "    stratify=dataset['has_event'],\n",
    "    )\n",
    "\n",
    "train_X_t = pipeline.fit_transform(train_X)\n",
    "test_X_t = pipeline.transform(test_X)\n",
    "\n",
    "display(train_X_t.head())"
   ]
  },
  {
   "cell_type": "code",
   "execution_count": 6,
   "metadata": {},
   "outputs": [],
   "source": [
    "# Model"
   ]
  },
  {
   "cell_type": "code",
   "execution_count": null,
   "metadata": {},
   "outputs": [],
   "source": []
  },
  {
   "cell_type": "code",
   "execution_count": 7,
   "metadata": {},
   "outputs": [],
   "source": [
    "# Results"
   ]
  },
  {
   "cell_type": "code",
   "execution_count": null,
   "metadata": {},
   "outputs": [],
   "source": []
  }
 ],
 "metadata": {
  "kernelspec": {
   "display_name": "Python 3.8.7 ('.venv': venv)",
   "language": "python",
   "name": "python3"
  },
  "language_info": {
   "codemirror_mode": {
    "name": "ipython",
    "version": 3
   },
   "file_extension": ".py",
   "mimetype": "text/x-python",
   "name": "python",
   "nbconvert_exporter": "python",
   "pygments_lexer": "ipython3",
   "version": "3.8.7"
  },
  "orig_nbformat": 4,
  "vscode": {
   "interpreter": {
    "hash": "fc89adacc80b1766b532b45dc652c9726ec8525e9e5a56bbe920e76f3497abd2"
   }
  }
 },
 "nbformat": 4,
 "nbformat_minor": 2
}
